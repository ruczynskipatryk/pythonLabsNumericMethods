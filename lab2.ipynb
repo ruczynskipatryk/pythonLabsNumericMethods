{
  "nbformat": 4,
  "nbformat_minor": 0,
  "metadata": {
    "colab": {
      "provenance": [],
      "authorship_tag": "ABX9TyNUDMM2cz+5x5g2lMl6a5nP",
      "include_colab_link": true
    },
    "kernelspec": {
      "name": "python3",
      "display_name": "Python 3"
    },
    "language_info": {
      "name": "python"
    }
  },
  "cells": [
    {
      "cell_type": "markdown",
      "metadata": {
        "id": "view-in-github",
        "colab_type": "text"
      },
      "source": [
        "<a href=\"https://colab.research.google.com/github/ruczynskipatryk/pythonLabsNumericMethods/blob/master/lab2.ipynb\" target=\"_parent\"><img src=\"https://colab.research.google.com/assets/colab-badge.svg\" alt=\"Open In Colab\"/></a>"
      ]
    },
    {
      "cell_type": "code",
      "execution_count": null,
      "metadata": {
        "colab": {
          "base_uri": "https://localhost:8080/"
        },
        "id": "mQA8etqu1d_6",
        "outputId": "74605d5e-411b-47ad-e339-2c633b413d9f"
      },
      "outputs": [
        {
          "output_type": "stream",
          "name": "stdout",
          "text": [
            "[(2, 5), (2, 11), (2, 17), (5, 2), (5, 11), (5, 17), (11, 2), (11, 5), (11, 17), (17, 2), (17, 5), (17, 11)]\n"
          ]
        }
      ],
      "source": [
        "numbers = [2, 5, 11, 17]\n",
        "pairs = [(x, y) for x in numbers for y in numbers if x != y]\n",
        "print(pairs)\n"
      ]
    },
    {
      "cell_type": "code",
      "source": [
        "import numpy as np\n",
        "\n",
        "# Generuj tablicę 'arr1' zawierającą wartości od 0 do 1.0 z krokiem 0.1\n",
        "arr1 = np.arange(0, 1.1, 0.1)\n",
        "\n",
        "# Inicjalizuj zmienne\n",
        "x = 0.0\n",
        "arr2 = []\n",
        "percentage_difference = []\n",
        "\n",
        "# Iteruj w zakresie do 11 wartości\n",
        "for i in range(11):\n",
        "    # Dodaj wartość 'x' do 'arr2' jako float32\n",
        "    arr2.append(np.float32(x))\n",
        "\n",
        "    # Oblicz procentową różnicę, unikając błędu dzielenia przez zero\n",
        "    if arr1[i] != 0:\n",
        "        difference = ((arr2[i] - arr1[i]) / arr1[i]) * 100\n",
        "    else:\n",
        "        difference = np.nan\n",
        "\n",
        "    # Dodaj wynik do listy 'percentage_difference'\n",
        "    percentage_difference.append(difference)\n",
        "\n",
        "    # Zwiększ 'x' o 0.1\n",
        "    x += 0.1\n",
        "\n",
        "for i in range(len(arr1)):\n",
        "    print(f'x={arr1[i]:.1f}, float32={arr2[i]:.1f}, różnica={percentage_difference[i]:.2f}%')"
      ],
      "metadata": {
        "colab": {
          "base_uri": "https://localhost:8080/"
        },
        "id": "RZLlfyaC4DOh",
        "outputId": "fabce2ef-9866-4ee8-80f7-ce334f01644f"
      },
      "execution_count": 10,
      "outputs": [
        {
          "output_type": "stream",
          "name": "stdout",
          "text": [
            "x=0.0, float32=0.0, różnica=nan%\n",
            "x=0.1, float32=0.1, różnica=0.00%\n",
            "x=0.2, float32=0.2, różnica=0.00%\n",
            "x=0.3, float32=0.3, różnica=0.00%\n",
            "x=0.4, float32=0.4, różnica=0.00%\n",
            "x=0.5, float32=0.5, różnica=0.00%\n",
            "x=0.6, float32=0.6, różnica=0.00%\n",
            "x=0.7, float32=0.7, różnica=-0.00%\n",
            "x=0.8, float32=0.8, różnica=0.00%\n",
            "x=0.9, float32=0.9, różnica=-0.00%\n",
            "x=1.0, float32=1.0, różnica=0.00%\n"
          ]
        }
      ]
    },
    {
      "cell_type": "code",
      "source": [
        "import numpy as np\n",
        "\n",
        "def f1(x):\n",
        "    # Przykładowa funkcja 1 / x\n",
        "    return 1 / x\n",
        "\n",
        "def f2(x):\n",
        "    # Przykładowa funkcja sin(x) z biblioteki numpy\n",
        "    return np.sin(x)\n",
        "\n",
        "def suma(f, xp, xk, k):\n",
        "    result = 0\n",
        "    x = xp\n",
        "    while x <= xk:\n",
        "      result += f(x)\n",
        "      x += k\n",
        "    return result\n",
        "\n",
        "def iloczyn(f, xp, xk, k):\n",
        "    result = 1\n",
        "    x = xp\n",
        "    while x <= xk:\n",
        "        result *= f(x)\n",
        "        x += k\n",
        "    return result\n",
        "\n",
        "xp = -3.14\n",
        "xk = 3.14\n",
        "krok = 0.01\n",
        "\n",
        "wynik_suma_f1 = suma(f1, xp, xk, krok)\n",
        "wynik_iloczyn_f1 = iloczyn(f2, xp, xk, krok)\n",
        "\n",
        "wynik_suma_f2 = suma(f1, xp, xk, krok)\n",
        "wynik_iloczyn_f2 = iloczyn(f2, xp, xk, krok)\n",
        "\n",
        "print(\"Wynik suma(f1):\", wynik_suma_f1)\n",
        "print(\"Wynik iloczyn(f1):\", wynik_iloczyn_f1)\n",
        "print(\"Wynik suma(f2):\", wynik_suma_f2)\n",
        "print(\"Wynik iloczyn(f2):\", wynik_iloczyn_f2)\n",
        "\n",
        "\n"
      ],
      "metadata": {
        "colab": {
          "base_uri": "https://localhost:8080/"
        },
        "id": "oE3-eKlaCW9o",
        "outputId": "8bc060d0-f681-4273-fe1c-41dbbd45485c"
      },
      "execution_count": 21,
      "outputs": [
        {
          "output_type": "stream",
          "name": "stdout",
          "text": [
            "Wynik suma(f1): -43890722727533.37\n",
            "Wynik iloczyn(f1): -8.233166721584562e-203\n",
            "Wynik suma(f2): -43890722727533.37\n",
            "Wynik iloczyn(f2): -8.233166721584562e-203\n"
          ]
        }
      ]
    },
    {
      "cell_type": "code",
      "source": [
        "import numpy as np\n",
        "\n",
        "def f1(x):\n",
        "    try:\n",
        "        # Funkcja 1 / x z obsługą wyjątku ZeroDivisionError\n",
        "        return 0 / 0\n",
        "\n",
        "    except ZeroDivisionError:\n",
        "        # Obsługa dzielenia przez zero\n",
        "        return float('inf')  # Zwróć nieskończoność (dla ułamka 1/0)\n",
        "\n",
        "def f2(x):\n",
        "    # Przykładowa funkcja sin(x) z biblioteki numpy\n",
        "    return np.sin(x)\n",
        "\n",
        "def suma(f, xp, xk, k):\n",
        "    result = 0\n",
        "    x = xp\n",
        "    while x <= xk:\n",
        "      result += f(x)\n",
        "      x += k\n",
        "    return result\n",
        "\n",
        "def iloczyn(f, xp, xk, k):\n",
        "    result = 1\n",
        "    x = xp\n",
        "    while x <= xk:\n",
        "        result *= f(x)\n",
        "        x += k\n",
        "    return result\n",
        "\n",
        "xp = -3.14\n",
        "xk = 3.14\n",
        "krok = 0.01\n",
        "\n",
        "wynik_suma_f1 = suma(f1, xp, xk, krok)\n",
        "wynik_iloczyn_f1 = iloczyn(f1, xp, xk, krok)\n",
        "\n",
        "wynik_suma_f2 = suma(f2, xp, xk, krok)\n",
        "wynik_iloczyn_f2 = iloczyn(f2, xp, xk, krok)\n",
        "\n",
        "print(\"Wynik suma(f1):\", wynik_suma_f1)\n",
        "print(\"Wynik iloczyn(f1):\", wynik_iloczyn_f1)\n",
        "print(\"Wynik suma(f2):\", wynik_suma_f2)\n",
        "print(\"Wynik iloczyn(f2):\", wynik_iloczyn_f2)\n"
      ],
      "metadata": {
        "colab": {
          "base_uri": "https://localhost:8080/"
        },
        "id": "RFZbjQuYLQfW",
        "outputId": "da921291-380b-4d39-9c79-fe03bddc681a"
      },
      "execution_count": 25,
      "outputs": [
        {
          "output_type": "stream",
          "name": "stdout",
          "text": [
            "Wynik suma(f1): inf\n",
            "Wynik iloczyn(f1): inf\n",
            "Wynik suma(f2): -1.3359712641713983e-13\n",
            "Wynik iloczyn(f2): -8.233166721584562e-203\n"
          ]
        }
      ]
    },
    {
      "cell_type": "code",
      "source": [
        "#wykres - test\n",
        "import matplotlib.pyplot as plt\n",
        "import numpy as np\n",
        "x=[i for i in np.arange(0,2,0.1)]\n",
        "y=[i**2 for i in np.arange(0,2,0.1)]\n",
        "plt.plot(x,y)\n",
        "plt.ylabel('f(x)')\n",
        "plt.xlabel('x')\n",
        "plt.title('f(x)=x^2')\n",
        "plt.show()"
      ],
      "metadata": {
        "colab": {
          "base_uri": "https://localhost:8080/",
          "height": 472
        },
        "id": "QJnLcYj4MX4R",
        "outputId": "584d49d9-b545-4df1-a017-c0ded3d40c77"
      },
      "execution_count": 39,
      "outputs": [
        {
          "output_type": "display_data",
          "data": {
            "text/plain": [
              "<Figure size 640x480 with 1 Axes>"
            ],
            "image/png": "[encoded data removed]"
          },
          "metadata": {}
        }
      ]
    },
    {
      "cell_type": "code",
      "source": [
        "# Funkcję rysuj z zadania 4 wyposaż w parametr opcja=1. Gdy opcja=1 to włączona jest siatka\n",
        "# oraz kropki w punktach dla których liczona była funkcja.\n",
        "\n",
        "#wykres - test\n",
        "import matplotlib.pyplot as plt\n",
        "import numpy as np\n",
        "\n",
        "opcja = 0;\n",
        "#opcja = 1;\n",
        "\n",
        "def rysuj():\n",
        "  x=[i for i in np.arange(0,2,0.1)]\n",
        "  y=[i**2 for i in np.arange(0,2,0.1)]\n",
        "\n",
        "if opcja == 1:\n",
        "  plt.grid(True)\n",
        "  plt.plot(x,y, 'bo-')\n",
        "else:\n",
        "  plt.plot(x,y)\n",
        "\n",
        "\n",
        "plt.ylabel('f(x)')\n",
        "plt.xlabel('x')\n",
        "plt.title('f(x)=x^2')\n",
        "\n",
        "\n",
        "plt.show()\n",
        "\n",
        "\n"
      ],
      "metadata": {
        "colab": {
          "base_uri": "https://localhost:8080/",
          "height": 472
        },
        "id": "GI_6YVyCM7jh",
        "outputId": "bdcfff25-ee33-440a-bc69-034a97fb4195"
      },
      "execution_count": 77,
      "outputs": [
        {
          "output_type": "display_data",
          "data": {
            "text/plain": [
              "<Figure size 640x480 with 1 Axes>"
            ],
            "image/png": "[encoded data removed]"
          },
          "metadata": {}
        }
      ]
    }
  ]
}