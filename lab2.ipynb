{
  "nbformat": 4,
  "nbformat_minor": 0,
  "metadata": {
    "colab": {
      "provenance": [],
      "authorship_tag": "ABX9TyPFCW3BwBOMP4Bnosq+sJIs",
      "include_colab_link": true
    },
    "kernelspec": {
      "name": "python3",
      "display_name": "Python 3"
    },
    "language_info": {
      "name": "python"
    }
  },
  "cells": [
    {
      "cell_type": "markdown",
      "metadata": {
        "id": "view-in-github",
        "colab_type": "text"
      },
      "source": [
        "<a href=\"https://colab.research.google.com/github/ruczynskipatryk/pythonLabsNumericMethods/blob/master/lab2.ipynb\" target=\"_parent\"><img src=\"https://colab.research.google.com/assets/colab-badge.svg\" alt=\"Open In Colab\"/></a>"
      ]
    },
    {
      "cell_type": "code",
      "execution_count": null,
      "metadata": {
        "colab": {
          "base_uri": "https://localhost:8080/"
        },
        "id": "mQA8etqu1d_6",
        "outputId": "74605d5e-411b-47ad-e339-2c633b413d9f"
      },
      "outputs": [
        {
          "output_type": "stream",
          "name": "stdout",
          "text": [
            "[(2, 5), (2, 11), (2, 17), (5, 2), (5, 11), (5, 17), (11, 2), (11, 5), (11, 17), (17, 2), (17, 5), (17, 11)]\n"
          ]
        }
      ],
      "source": [
        "numbers = [2, 5, 11, 17]\n",
        "pairs = [(x, y) for x in numbers for y in numbers if x != y]\n",
        "print(pairs)\n"
      ]
    },
    {
      "cell_type": "code",
      "source": [
        "import numpy as np\n",
        "\n",
        "# Generuj tablicę 'arr1' zawierającą wartości od 0 do 1.0 z krokiem 0.1\n",
        "arr1 = np.arange(0, 1.1, 0.1)\n",
        "\n",
        "# Inicjalizuj zmienne\n",
        "x = 0.0\n",
        "arr2 = []\n",
        "percentage_difference = []\n",
        "\n",
        "# Iteruj przez 11 wartości\n",
        "for i in range(11):\n",
        "    # Dodaj wartość 'x' do 'arr2' jako float32\n",
        "    arr2.append(np.float32(x))\n",
        "\n",
        "    # Oblicz procentową różnicę, unikając błędu dzielenia przez zero\n",
        "    if arr1[i] != 0:\n",
        "        difference = ((arr2[i] - arr1[i]) / arr1[i]) * 100\n",
        "    else:\n",
        "        difference = np.nan\n",
        "\n",
        "    # Dodaj wynik do listy 'percentage_difference'\n",
        "    percentage_difference.append(difference)\n",
        "\n",
        "    # Zwiększ 'x' o 0.1\n",
        "    x += 0.1\n",
        "\n",
        "for i in range(len(arr1)):\n",
        "    print(f'x={arr1[i]:.1f}, float32={arr2[i]:.1f}, różnica={percentage_difference[i]:.2f}%')"
      ],
      "metadata": {
        "colab": {
          "base_uri": "https://localhost:8080/"
        },
        "id": "RZLlfyaC4DOh",
        "outputId": "fabce2ef-9866-4ee8-80f7-ce334f01644f"
      },
      "execution_count": 10,
      "outputs": [
        {
          "output_type": "stream",
          "name": "stdout",
          "text": [
            "x=0.0, float32=0.0, różnica=nan%\n",
            "x=0.1, float32=0.1, różnica=0.00%\n",
            "x=0.2, float32=0.2, różnica=0.00%\n",
            "x=0.3, float32=0.3, różnica=0.00%\n",
            "x=0.4, float32=0.4, różnica=0.00%\n",
            "x=0.5, float32=0.5, różnica=0.00%\n",
            "x=0.6, float32=0.6, różnica=0.00%\n",
            "x=0.7, float32=0.7, różnica=-0.00%\n",
            "x=0.8, float32=0.8, różnica=0.00%\n",
            "x=0.9, float32=0.9, różnica=-0.00%\n",
            "x=1.0, float32=1.0, różnica=0.00%\n"
          ]
        }
      ]
    }
  ]
}