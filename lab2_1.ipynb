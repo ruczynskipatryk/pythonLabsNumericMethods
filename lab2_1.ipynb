{
  "nbformat": 4,
  "nbformat_minor": 0,
  "metadata": {
    "colab": {
      "provenance": [],
      "authorship_tag": "ABX9TyM4sTLBHwfujrtAfo1ufl/F",
      "include_colab_link": true
    },
    "kernelspec": {
      "name": "python3",
      "display_name": "Python 3"
    },
    "language_info": {
      "name": "python"
    }
  },
  "cells": [
    {
      "cell_type": "markdown",
      "metadata": {
        "id": "view-in-github",
        "colab_type": "text"
      },
      "source": [
        "<a href=\"https://colab.research.google.com/github/ruczynskipatryk/pythonLabsNumericMethods/blob/master/lab2_1.ipynb\" target=\"_parent\"><img src=\"https://colab.research.google.com/assets/colab-badge.svg\" alt=\"Open In Colab\"/></a>"
      ]
    },
    {
      "cell_type": "code",
      "execution_count": 1,
      "metadata": {
        "colab": {
          "base_uri": "https://localhost:8080/"
        },
        "id": "mQA8etqu1d_6",
        "outputId": "74605d5e-411b-47ad-e339-2c633b413d9f"
      },
      "outputs": [
        {
          "output_type": "stream",
          "name": "stdout",
          "text": [
            "[(2, 5), (2, 11), (2, 17), (5, 2), (5, 11), (5, 17), (11, 2), (11, 5), (11, 17), (17, 2), (17, 5), (17, 11)]\n"
          ]
        }
      ],
      "source": [
        "numbers = [2, 5, 11, 17]\n",
        "pairs = [(x, y) for x in numbers for y in numbers if x != y]\n",
        "print(pairs)\n"
      ]
    }
  ]
}