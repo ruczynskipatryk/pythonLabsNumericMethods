{
  "nbformat": 4,
  "nbformat_minor": 0,
  "metadata": {
    "colab": {
      "provenance": [],
      "authorship_tag": "ABX9TyMR/4U9QZK0NufMCgvZTDAm",
      "include_colab_link": true
    },
    "kernelspec": {
      "name": "python3",
      "display_name": "Python 3"
    },
    "language_info": {
      "name": "python"
    }
  },
  "cells": [
    {
      "cell_type": "markdown",
      "metadata": {
        "id": "view-in-github",
        "colab_type": "text"
      },
      "source": [
        "<a href=\"https://colab.research.google.com/github/ruczynskipatryk/pythonLabsNumericMethods/blob/master/lab3.ipynb\" target=\"_parent\"><img src=\"https://colab.research.google.com/assets/colab-badge.svg\" alt=\"Open In Colab\"/></a>"
      ]
    },
    {
      "cell_type": "code",
      "execution_count": 2,
      "metadata": {
        "colab": {
          "base_uri": "https://localhost:8080/"
        },
        "id": "qvqxXo334Yxi",
        "outputId": "23a82a62-da75-4100-d27a-f33d46f8f744"
      },
      "outputs": [
        {
          "output_type": "stream",
          "name": "stdout",
          "text": [
            "sin(x) (Biblioteka): 0.7071067811865475\n",
            "sin(x) (Taylora): 0.7071067811865475\n",
            "cos(x) (Biblioteka): 0.7071067811865476\n",
            "cos(x) (Taylora): 0.7071067811865475\n",
            "exp(x) (Biblioteka): 2.1932800507380152\n",
            "exp(x) (Taylora): 2.1932800242470276\n",
            "tan(x) (Biblioteka): 0.9999999999999999\n",
            "tan(x) (Taylora): 1.0\n"
          ]
        }
      ],
      "source": [
        "import math\n",
        "\n",
        "def factorial(n):\n",
        "    \"\"\"Funkcja obliczająca silnię n.\"\"\"\n",
        "    if n == 0:\n",
        "        return 1\n",
        "    else:\n",
        "        return n * factorial(n - 1)\n",
        "\n",
        "def tsin(x, n_terms=10):\n",
        "    \"\"\"Przybliżona wartość sin(x) za pomocą szeregu Taylora z n_terms składnikami.\"\"\"\n",
        "    result = 0\n",
        "    for n in range(n_terms):\n",
        "        term = ((-1) ** n) * (x ** (2 * n + 1)) / factorial(2 * n + 1)\n",
        "        result += term\n",
        "    return result\n",
        "\n",
        "def tcos(x, n_terms=10):\n",
        "    \"\"\"Przybliżona wartość cos(x) za pomocą szeregu Taylora z n_terms składnikami.\"\"\"\n",
        "    result = 0\n",
        "    for n in range(n_terms):\n",
        "        term = ((-1) ** n) * (x ** (2 * n)) / factorial(2 * n)\n",
        "        result += term\n",
        "    return result\n",
        "\n",
        "def texp(x, n_terms=10):\n",
        "    \"\"\"Przybliżona wartość exp(x) za pomocą szeregu Taylora z n_terms składnikami.\"\"\"\n",
        "    result = 0\n",
        "    for n in range(n_terms):\n",
        "        term = (x ** n) / factorial(n)\n",
        "        result += term\n",
        "    return result\n",
        "\n",
        "def ttan(x, n_terms=10):\n",
        "    \"\"\"Przybliżona wartość tan(x) za pomocą szeregu Taylora z n_terms składnikami.\"\"\"\n",
        "    sin_x = tsin(x, n_terms)\n",
        "    cos_x = tcos(x, n_terms)\n",
        "    return sin_x / cos_x\n",
        "\n",
        "# Przykład użycia:\n",
        "x = math.pi / 4  # Przykładowy kąt (45 stopni)\n",
        "n_terms = 10  # Liczba składników w szeregu\n",
        "\n",
        "print(\"sin(x) (Biblioteka):\", math.sin(x))\n",
        "print(\"sin(x) (Taylora):\", tsin(x, n_terms))\n",
        "\n",
        "print(\"cos(x) (Biblioteka):\", math.cos(x))\n",
        "print(\"cos(x) (Taylora):\", tcos(x, n_terms))\n",
        "\n",
        "print(\"exp(x) (Biblioteka):\", math.exp(x))\n",
        "print(\"exp(x) (Taylora):\", texp(x, n_terms))\n",
        "\n",
        "print(\"tan(x) (Biblioteka):\", math.tan(x))\n",
        "print(\"tan(x) (Taylora):\", ttan(x, n_terms))\n"
      ]
    }
  ]
}